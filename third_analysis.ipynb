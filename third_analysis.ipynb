{
 "cells": [
  {
   "cell_type": "markdown",
   "metadata": {},
   "source": [
    "# Proyecto 2 - Entrega 3"
   ]
  },
  {
   "cell_type": "code",
   "execution_count": 21,
   "metadata": {},
   "outputs": [],
   "source": [
    "import pandas as pd\n",
    "import numpy as np\n",
    "import matplotlib.pyplot as plt\n",
    "import seaborn as sns\n",
    "from sklearn.naive_bayes import GaussianNB\n",
    "from sklearn.metrics import accuracy_score, classification_report, confusion_matrix\n",
    "from sklearn.preprocessing import KBinsDiscretizer\n",
    "from sklearn.linear_model import LinearRegression\n",
    "from sklearn.tree import DecisionTreeRegressor\n",
    "from sklearn.metrics import mean_absolute_error, mean_squared_error, r2_score"
   ]
  },
  {
   "cell_type": "markdown",
   "metadata": {},
   "source": [
    "## Modelo de Regresión con Naïve Bayes\n",
    "Debido a que Naïve Bayes es un modelo probabilístico que se encuentra diseñado para clasificar es importante notar que no esta diseñado para una regresión continua. Por lo que se decidió utilizar un Gaussian Process Regression que tiene una mayor flezibilidad para la regresión."
   ]
  },
  {
   "cell_type": "code",
   "execution_count": 22,
   "metadata": {},
   "outputs": [
    {
     "name": "stdout",
     "output_type": "stream",
     "text": [
      "         Id  MSSubClass  LotFrontage   LotArea  OverallQual  OverallCond  \\\n",
      "0  1.334629    0.294118     0.133562  0.024773    -0.795151    -1.416142   \n",
      "1  0.684516    0.352941          NaN  0.044329     0.651479    -0.517200   \n",
      "2  1.147187    0.352941          NaN  0.041814    -1.518467     3.078570   \n",
      "3  1.662057    0.235294     0.133562  0.096427    -0.795151    -0.517200   \n",
      "4  0.191000    0.000000     0.195205  0.041319    -0.071836     0.381743   \n",
      "\n",
      "   YearBuilt  YearRemodAdd  MasVnrArea  ExterQual  ...  SaleType_ConLw  \\\n",
      "0  -2.625409     -0.962566    0.000000   1.000000  ...           False   \n",
      "1   0.653545      0.345679    0.047500   0.666667  ...           False   \n",
      "2  -0.207594      0.781761    0.000000   1.000000  ...           False   \n",
      "3   1.117235      0.975575    0.000000   0.666667  ...           False   \n",
      "4   0.090492      0.684854    0.061875   1.000000  ...           False   \n",
      "\n",
      "   SaleType_New  SaleType_Oth  SaleType_WD  SaleCondition_Abnorml  \\\n",
      "0         False         False         True                  False   \n",
      "1         False         False         True                  False   \n",
      "2         False         False         True                  False   \n",
      "3         False         False         True                  False   \n",
      "4         False         False         True                  False   \n",
      "\n",
      "   SaleCondition_AdjLand  SaleCondition_Alloca  SaleCondition_Family  \\\n",
      "0                  False                 False                 False   \n",
      "1                  False                 False                 False   \n",
      "2                  False                 False                 False   \n",
      "3                  False                 False                 False   \n",
      "4                  False                 False                 False   \n",
      "\n",
      "   SaleCondition_Normal  SaleCondition_Partial  \n",
      "0                  True                  False  \n",
      "1                  True                  False  \n",
      "2                  True                  False  \n",
      "3                  True                  False  \n",
      "4                  True                  False  \n",
      "\n",
      "[5 rows x 255 columns]\n",
      "         Id  MSSubClass  LotFrontage   LotArea  OverallQual  OverallCond  \\\n",
      "0 -0.475721    0.000000          NaN  0.146617    -0.071836    -2.315085   \n",
      "1 -0.565882    0.176471     0.198630  0.038281    -0.071836     1.280685   \n",
      "2 -0.641808    0.176471          NaN  0.026712    -0.795151    -1.416142   \n",
      "3 -1.068889    0.235294     0.212329  0.040688     0.651479    -0.517200   \n",
      "4 -0.176764    0.823529     0.000000  0.001776    -0.071836    -0.517200   \n",
      "\n",
      "   YearBuilt  YearRemodAdd  MasVnrArea  ExterQual  ...  SaleType_ConLw  \\\n",
      "0  -0.472560     -0.478030         NaN   0.666667  ...           False   \n",
      "1  -1.002492     -1.689368    0.000000   1.000000  ...           False   \n",
      "2  -0.704406     -1.689368    0.100625   1.000000  ...           False   \n",
      "3   0.189854     -0.381123    0.186875   1.000000  ...           False   \n",
      "4  -0.008870     -0.671845    0.238125   1.000000  ...           False   \n",
      "\n",
      "   SaleType_New  SaleType_Oth  SaleType_WD  SaleCondition_Abnorml  \\\n",
      "0         False         False         True                  False   \n",
      "1         False         False         True                  False   \n",
      "2         False         False         True                  False   \n",
      "3         False         False         True                  False   \n",
      "4         False         False         True                  False   \n",
      "\n",
      "   SaleCondition_AdjLand  SaleCondition_Alloca  SaleCondition_Family  \\\n",
      "0                  False                  True                 False   \n",
      "1                  False                 False                 False   \n",
      "2                  False                 False                 False   \n",
      "3                  False                 False                 False   \n",
      "4                  False                 False                  True   \n",
      "\n",
      "   SaleCondition_Normal  SaleCondition_Partial  \n",
      "0                 False                  False  \n",
      "1                  True                  False  \n",
      "2                  True                  False  \n",
      "3                  True                  False  \n",
      "4                 False                  False  \n",
      "\n",
      "[5 rows x 255 columns]\n"
     ]
    }
   ],
   "source": [
    "train_data = pd.read_csv(\"data/train_data_scaled.csv\")\n",
    "test_data = pd.read_csv(\"data/test_data_scaled.csv\")\n",
    "print(train_data.head())\n",
    "print(test_data.head())"
   ]
  },
  {
   "cell_type": "code",
   "execution_count": 23,
   "metadata": {},
   "outputs": [],
   "source": [
    "from sklearn.preprocessing import KBinsDiscretizer\n",
    "\n",
    "# Paso 1: Instanciamos el discretizador\n",
    "discretizer = KBinsDiscretizer(n_bins=3, encode=\"ordinal\", strategy=\"quantile\")\n",
    "\n",
    "# Paso 2: Lo aplicamos al SalePrice de entrenamiento\n",
    "train_data[\"SalePrice_Category\"] = discretizer.fit_transform(train_data[[\"SalePrice\"]])\n",
    "\n",
    "# Paso 3: Transformamos los datos de prueba usando el mismo discretizador\n",
    "test_data[\"SalePrice_Category\"] = discretizer.transform(test_data[[\"SalePrice\"]])\n"
   ]
  },
  {
   "cell_type": "code",
   "execution_count": 24,
   "metadata": {},
   "outputs": [],
   "source": [
    "# Convertir SalePrice en 3 categorías: Economica, intermedia y cara\n",
    "# 0 = economica, 1 = intermedia, 2 = cara\n",
    "#discretizer = KBinsDiscretizer(n_bins=3, encode=\"ordinal\", strategy=\"quantile\")\n",
    "#train_data[\"SalePrice_Category\"] = discretizer.fit_transform(train_data[[\"SalePrice\"]])\n",
    "#test_data[\"SalePrice_Category\"] = discretizer.transform(test_data[[\"SalePrice\"]])\n",
    "X_train = train_data.drop(columns=[\"SalePrice\", \"SalePrice_Category\"])\n",
    "y_train = train_data[\"SalePrice_Category\"]\n",
    "\n",
    "X_test = test_data.drop(columns=[\"SalePrice\", \"SalePrice_Category\"])\n",
    "y_test = test_data[\"SalePrice_Category\"]\n",
    "X_train = X_train.fillna(X_train.mean())\n",
    "X_test = X_test.fillna(X_test.mean())\n"
   ]
  },
  {
   "cell_type": "code",
   "execution_count": null,
   "metadata": {},
   "outputs": [
    {
     "name": "stdout",
     "output_type": "stream",
     "text": [
      "Resultados de Gaussian Process Regression:\n",
      "MAE: 0.30\n",
      "MSE: 0.16\n",
      "R² Score: 0.76\n"
     ]
    }
   ],
   "source": [
    "from sklearn.gaussian_process import GaussianProcessRegressor\n",
    "from sklearn.gaussian_process.kernels import RBF, ConstantKernel as C\n",
    "\n",
    "# Definir kernel\n",
    "kernel = C(1.0, (1e-3, 1e3)) * RBF(1.0, (1e-3, 1e3))\n",
    "\n",
    "# Crear el modelo\n",
    "gp_model = GaussianProcessRegressor(kernel=kernel, n_restarts_optimizer=10)\n",
    "\n",
    "# Entrenar el modelo\n",
    "gp_model.fit(X_train, y_train)\n",
    "\n",
    "# Hacer predicciones\n",
    "y_pred_gp = gp_model.predict(X_test)\n",
    "\n",
    "# Evaluar el modelo\n",
    "mae_gp = mean_absolute_error(y_test, y_pred_gp)\n",
    "mse_gp = mean_squared_error(y_test, y_pred_gp)\n",
    "r2_gp = r2_score(y_test, y_pred_gp)\n",
    "\n",
    "print(\"Resultados de Gaussian Process Regression:\")\n",
    "print(f\"MAE: {mae_gp:.2f}\")\n",
    "print(f\"MSE: {mse_gp:.2f}\")\n",
    "print(f\"$R^2$ Score: {r2_gp:.2f}\")\n"
   ]
  },
  {
   "cell_type": "markdown",
   "metadata": {},
   "source": [
    "### Explicación de resultados obtenidos \n",
    "\n",
    "El modelo de **Gaussian Process Regression (GPR)** obtuvo un **$R^2$ Score de 0.76**, indicando que puede explicar el 76% de la variabilidad en los precios de las viviendas, lo cual refleja un desempeño sólido. Además, el **MAE (0.30)** y el **MSE (0.16)** son relativamente bajos, lo que sugiere que los errores promedio en las predicciones también son aceptables. Estos resultados evidencian que el modelo es adecuado para estimar rangos de precios de viviendas, incluso habiendo transformado la variable objetivo en categorías para aplicar una técnica basada originalmente en clasificación."
   ]
  },
  {
   "cell_type": "markdown",
   "metadata": {},
   "source": [
    "## Comparación de resultados de regresión lineal y árbol de decisión"
   ]
  },
  {
   "cell_type": "code",
   "execution_count": 26,
   "metadata": {},
   "outputs": [],
   "source": [
    "X_train = train_data.drop(columns=[\"SalePrice\"])\n",
    "y_train = train_data[\"SalePrice\"]\n",
    "X_test = test_data.drop(columns=[\"SalePrice\"])\n",
    "y_test = test_data[\"SalePrice\"]\n",
    "X_train = X_train.fillna(X_train.mean())\n",
    "X_test = X_test.fillna(X_test.mean())"
   ]
  },
  {
   "cell_type": "code",
   "execution_count": 27,
   "metadata": {},
   "outputs": [
    {
     "name": "stdout",
     "output_type": "stream",
     "text": [
      "Resultados de Regresión Lineal:\n",
      "MAE: 0.03\n",
      "MSE: 0.01\n",
      "R^2 Score: 0.57\n"
     ]
    }
   ],
   "source": [
    "lr_model = LinearRegression()\n",
    "lr_model.fit(X_train, y_train)\n",
    "y_pred_lr = lr_model.predict(X_test)\n",
    "mae_lr = mean_absolute_error(y_test, y_pred_lr)\n",
    "mse_lr = mean_squared_error(y_test, y_pred_lr)\n",
    "r2_lr = r2_score(y_test, y_pred_lr)\n",
    "print(\"Resultados de Regresión Lineal:\")\n",
    "print(f\"MAE: {mae_lr:.2f}\")\n",
    "print(f\"MSE: {mse_lr:.2f}\")\n",
    "print(f\"R^2 Score: {r2_lr:.2f}\")"
   ]
  },
  {
   "cell_type": "code",
   "execution_count": 28,
   "metadata": {},
   "outputs": [
    {
     "name": "stdout",
     "output_type": "stream",
     "text": [
      "\n",
      "Resultados de Árbol de Decisión:\n",
      "MAE: 0.03\n",
      "MSE: 0.00\n",
      "R^2 Score: 0.85\n"
     ]
    }
   ],
   "source": [
    "dt_model = DecisionTreeRegressor(random_state=42)\n",
    "dt_model.fit(X_train, y_train)\n",
    "y_pred_dt = dt_model.predict(X_test)\n",
    "mae_dt = mean_absolute_error(y_test, y_pred_dt)\n",
    "mse_dt = mean_squared_error(y_test, y_pred_dt)\n",
    "r2_dt = r2_score(y_test, y_pred_dt)\n",
    "print(\"\\nResultados de Árbol de Decisión:\")\n",
    "print(f\"MAE: {mae_dt:.2f}\")\n",
    "print(f\"MSE: {mse_dt:.2f}\")\n",
    "print(f\"R^2 Score: {r2_dt:.2f}\")"
   ]
  },
  {
   "cell_type": "code",
   "execution_count": 29,
   "metadata": {},
   "outputs": [
    {
     "name": "stdout",
     "output_type": "stream",
     "text": [
      "                        Modelo  MAE (Error Medio Absoluto)  \\\n",
      "0             Regresión Lineal                    0.032096   \n",
      "1            Árbol de Decisión                    0.028353   \n",
      "2  Gaussian Process Regression                    0.303659   \n",
      "\n",
      "   MSE (Error Cuadrático Medio)  R^2 Score  \n",
      "0                      0.005514   0.566883  \n",
      "1                      0.001869   0.853177  \n",
      "2                      0.164353   0.758099  \n"
     ]
    }
   ],
   "source": [
    "resultados = pd.DataFrame({\n",
    "    \"Modelo\": [\"Regresión Lineal\", \"Árbol de Decisión\", \"Gaussian Process Regression\"],\n",
    "    \"MAE (Error Medio Absoluto)\": [mae_lr, mae_dt, mae_gp],\n",
    "    \"MSE (Error Cuadrático Medio)\": [mse_lr, mse_dt, mse_gp],\n",
    "    \"R^2 Score\": [r2_lr, r2_dt, r2_gp]\n",
    "})\n",
    "print(resultados)"
   ]
  },
  {
   "cell_type": "code",
   "execution_count": 30,
   "metadata": {},
   "outputs": [
    {
     "name": "stderr",
     "output_type": "stream",
     "text": [
      "C:\\Users\\josue\\AppData\\Local\\Temp\\ipykernel_52964\\133953947.py:3: FutureWarning: \n",
      "\n",
      "Passing `palette` without assigning `hue` is deprecated and will be removed in v0.14.0. Assign the `x` variable to `hue` and set `legend=False` for the same effect.\n",
      "\n",
      "  sns.barplot(x=\"Modelo\", y=\"R^2 Score\", data=resultados, palette=\"viridis\")\n"
     ]
    },
    {
     "data": {
      "image/png": "[encoded data removed]",
      "text/plain": [
       "<Figure size 1000x500 with 1 Axes>"
      ]
     },
     "metadata": {},
     "output_type": "display_data"
    },
    {
     "name": "stderr",
     "output_type": "stream",
     "text": [
      "C:\\Users\\josue\\AppData\\Local\\Temp\\ipykernel_52964\\133953947.py:9: FutureWarning: \n",
      "\n",
      "Passing `palette` without assigning `hue` is deprecated and will be removed in v0.14.0. Assign the `x` variable to `hue` and set `legend=False` for the same effect.\n",
      "\n",
      "  sns.barplot(x=\"Modelo\", y=\"MAE (Error Medio Absoluto)\", data=resultados, palette=\"magma\")\n"
     ]
    },
    {
     "data": {
      "image/png": "[encoded data removed]",
      "text/plain": [
       "<Figure size 1000x500 with 1 Axes>"
      ]
     },
     "metadata": {},
     "output_type": "display_data"
    },
    {
     "name": "stderr",
     "output_type": "stream",
     "text": [
      "C:\\Users\\josue\\AppData\\Local\\Temp\\ipykernel_52964\\133953947.py:14: FutureWarning: \n",
      "\n",
      "Passing `palette` without assigning `hue` is deprecated and will be removed in v0.14.0. Assign the `x` variable to `hue` and set `legend=False` for the same effect.\n",
      "\n",
      "  sns.barplot(x=\"Modelo\", y=\"MSE (Error Cuadrático Medio)\", data=resultados, palette=\"coolwarm\")\n"
     ]
    },
    {
     "data": {
      "image/png": "[encoded data removed]",
      "text/plain": [
       "<Figure size 1000x500 with 1 Axes>"
      ]
     },
     "metadata": {},
     "output_type": "display_data"
    }
   ],
   "source": [
    "sns.set_style(\"whitegrid\")\n",
    "plt.figure(figsize=(10, 5))\n",
    "sns.barplot(x=\"Modelo\", y=\"R^2 Score\", data=resultados, palette=\"viridis\")\n",
    "plt.title(\"Comparación de Modelos - R^2 Score\")\n",
    "plt.ylabel(\"R^2 Score (Mayor es mejor)\")\n",
    "plt.ylim(0, 1) \n",
    "plt.show()\n",
    "plt.figure(figsize=(10, 5))\n",
    "sns.barplot(x=\"Modelo\", y=\"MAE (Error Medio Absoluto)\", data=resultados, palette=\"magma\")\n",
    "plt.title(\"Comparación de Modelos - MAE (Error Medio Absoluto)\")\n",
    "plt.ylabel(\"MAE (Menor es mejor)\")\n",
    "plt.show()\n",
    "plt.figure(figsize=(10, 5))\n",
    "sns.barplot(x=\"Modelo\", y=\"MSE (Error Cuadrático Medio)\", data=resultados, palette=\"coolwarm\")\n",
    "plt.title(\"Comparación de Modelos - MSE (Error Cuadrático Medio)\")\n",
    "plt.ylabel(\"MSE (Menor es mejor)\")\n",
    "plt.show()"
   ]
  },
  {
   "cell_type": "markdown",
   "metadata": {},
   "source": [
    "### ¿Qué modelo funcionó mejor?\n",
    "\n",
    "Para permitir el uso del modelo GPR con Naive Bayes (en un contexto de clasificación), previamente se discretizó la variable `SalePrice` en tres categorías (económica, intermedia y cara). Luego se compararon todos los modelos (**Regresión Lineal**, **Árbol de Decisión** y **Gaussian Process Regression (GPR)**) usando métricas estándar de regresión: **MAE**, **MSE** y **$R^2$ Score**.\n",
    "\n",
    "Los resultados fueron los siguientes:\n",
    "\n",
    "| Modelo                      | MAE   | MSE   | $R^2$ Score |\n",
    "|----------------------------|--------|--------|-----------|\n",
    "| Regresión Lineal           | 0.032  | 0.0055 | 0.57      |\n",
    "| Árbol de Decisión          | 0.028  | 0.0019 | 0.85      |\n",
    "| Gaussian Process Regression| 0.304  | 0.164  | 0.76      |\n",
    "\n",
    "A partir de los resultados y las gráficas presentadas:\n",
    "\n",
    "- **El Árbol de Decisión fue el modelo con mejor desempeño general**, con el $R^2$ Score más alto (0.85) y los errores más bajos, tanto en MAE como MSE.\n",
    "- **El modelo GPR**, a pesar de no estar diseñado específicamente para regresión continua en su forma original, mostró un desempeño aceptable ($R^2$ de 0.76), aunque con errores más altos. Esto puede atribuirse a la transformación categórica aplicada a `SalePrice`.\n",
    "- **La Regresión Lineal** obtuvo el menor desempeño en cuanto a capacidad explicativa ($R^2$ de 0.57), aunque con errores bajos, lo cual sugiere que puede modelar correctamente la tendencia general, pero no captura bien la variabilidad de los datos.\n",
    "\n",
    "### Conclusión\n",
    "\n",
    "El modelo más recomendable para este caso de predicción de precios de viviendas es el **Árbol de Decisión**, ya que equilibra bien precisión y bajo error. El GPR, aunque interesante como experimento con técnicas de clasificación aplicadas a regresión, no supera a los métodos tradicionales de regresión continua."
   ]
  },
  {
   "cell_type": "markdown",
   "metadata": {},
   "source": [
    "### Modelo de Clasificación con Naïve Bayes"
   ]
  },
  {
   "cell_type": "code",
   "execution_count": 31,
   "metadata": {},
   "outputs": [],
   "source": [
    "# 1. Separar las variables independientes (X) y dependiente (y) para clasificación\n",
    "X_train_clf = train_data.drop(columns=[\"SalePrice\", \"SalePrice_Category\"])\n",
    "y_train_clf = train_data[\"SalePrice_Category\"]\n",
    "\n",
    "X_test_clf = test_data.drop(columns=[\"SalePrice\", \"SalePrice_Category\"])\n",
    "y_test_clf = test_data[\"SalePrice_Category\"]\n",
    "\n",
    "# 2. Rellenar valores nulos \n",
    "X_train_clf = X_train_clf.fillna(X_train_clf.mean())\n",
    "X_test_clf = X_test_clf.fillna(X_test_clf.mean())\n",
    "\n",
    "# 3. Crear y entrenar el modelo de Naive Bayes\n",
    "nb_model = GaussianNB()\n",
    "nb_model.fit(X_train_clf, y_train_clf)\n",
    "\n",
    "# 4. Hacer predicciones con el conjunto de prueba\n",
    "y_pred_nb = nb_model.predict(X_test_clf)\n",
    "\n"
   ]
  },
  {
   "cell_type": "markdown",
   "metadata": {},
   "source": [
    "### Eficiencia de los algoritmos"
   ]
  },
  {
   "cell_type": "code",
   "execution_count": 32,
   "metadata": {},
   "outputs": [
    {
     "name": "stdout",
     "output_type": "stream",
     "text": [
      "Precisión del modelo Naive Bayes: 0.56\n",
      "Reporte de Clasificación:\n",
      "\n",
      "              precision    recall  f1-score   support\n",
      "\n",
      "   Económica       0.84      0.38      0.53       125\n",
      "  Intermedia       0.38      0.43      0.40       117\n",
      "        Cara       0.61      0.87      0.72       123\n",
      "\n",
      "    accuracy                           0.56       365\n",
      "   macro avg       0.61      0.56      0.55       365\n",
      "weighted avg       0.61      0.56      0.55       365\n",
      "\n"
     ]
    }
   ],
   "source": [
    "accuracy_nb = accuracy_score(y_test_clf, y_pred_nb)\n",
    "print(f\"Precisión del modelo Naive Bayes: {accuracy_nb:.2f}\")\n",
    "\n",
    "reporte_nb = classification_report(\n",
    "    y_test_clf,\n",
    "    y_pred_nb,\n",
    "    target_names=[\"Económica\", \"Intermedia\", \"Cara\"]\n",
    ")\n",
    "\n",
    "print(\"Reporte de Clasificación:\\n\")\n",
    "print(reporte_nb)"
   ]
  },
  {
   "cell_type": "markdown",
   "metadata": {},
   "source": [
    "### Análisis de eficiencia - Matriz de confusión"
   ]
  },
  {
   "cell_type": "code",
   "execution_count": 33,
   "metadata": {},
   "outputs": [
    {
     "data": {
      "image/png": "[encoded data removed]",
      "text/plain": [
       "<Figure size 600x400 with 2 Axes>"
      ]
     },
     "metadata": {},
     "output_type": "display_data"
    }
   ],
   "source": [
    "conf_matrix = confusion_matrix(y_test_clf, y_pred_nb)\n",
    "plt.figure(figsize=(6, 4))\n",
    "sns.heatmap(conf_matrix, annot=True, fmt=\"d\", cmap=\"Blues\",\n",
    "            xticklabels=[\"Económica\", \"Intermedia\", \"Cara\"],\n",
    "            yticklabels=[\"Económica\", \"Intermedia\", \"Cara\"])\n",
    "plt.title(\"Matriz de Confusión - Naïve Bayes\")\n",
    "plt.xlabel(\"Predicción del Modelo\")\n",
    "plt.ylabel(\"Clase Real\")\n",
    "plt.show()"
   ]
  },
  {
   "cell_type": "markdown",
   "metadata": {},
   "source": [
    "### Errores y su importancia\n",
    "\n",
    " **¿Dónde se equivocó más el modelo?**\n",
    "- Mayor error: Confundió 68 casas económicas como intermedias\n",
    "\n",
    "- Mayor acierto: 107 casas caras predichas correctamente\n",
    "\n",
    "**¿Qué tan graves son los errores?**\n",
    "- Confundir económica como intermedia → puede hacer que alguien pague más por una propiedad barata.\n",
    "- Confundir intermedia como cara → puede dificultar la venta, alejar compradores."
   ]
  },
  {
   "cell_type": "markdown",
   "metadata": {},
   "source": [
    "### ¿Existe un sobre ajuste del modelo?"
   ]
  },
  {
   "cell_type": "code",
   "execution_count": 34,
   "metadata": {},
   "outputs": [
    {
     "name": "stdout",
     "output_type": "stream",
     "text": [
      "Accuracy en entrenamiento: 0.66\n",
      "Accuracy en prueba: 0.56\n"
     ]
    }
   ],
   "source": [
    "# Predicciones en el conjunto de entrenamiento\n",
    "y_train_pred_nb = nb_model.predict(X_train_clf)\n",
    "accuracy_train = accuracy_score(y_train_clf, y_train_pred_nb)\n",
    "\n",
    "# Ya tenemos las predicciones en test: y_pred_nb\n",
    "accuracy_test = accuracy_score(y_test_clf, y_pred_nb)\n",
    "\n",
    "print(f\"Accuracy en entrenamiento: {accuracy_train:.2f}\")\n",
    "print(f\"Accuracy en prueba: {accuracy_test:.2f}\")"
   ]
  },
  {
   "cell_type": "markdown",
   "metadata": {},
   "source": [
    "- La diferencia entre ambos valores es de 0.10 (10%)\n",
    "\n",
    "- Es una diferencia moderada, pero no tan grande como para decir que hay un sobreajuste severo.\n",
    "\n",
    "- El modelo aprende un poco mejor los datos que ya conoce (entrenamiento), pero no se cae completamente en datos nuevos\n",
    "\n",
    "***Esto indica que el modelo puede estar ligeramente sesgado o limitado, más que sobreajustado.***"
   ]
  },
  {
   "cell_type": "markdown",
   "metadata": {},
   "source": [
    "## Modelo con validación cruzada"
   ]
  },
  {
   "cell_type": "code",
   "execution_count": 35,
   "metadata": {},
   "outputs": [
    {
     "name": "stdout",
     "output_type": "stream",
     "text": [
      "Scores por fold: [0.65296804 0.60273973 0.55251142 0.62557078 0.61187215]\n",
      "Accuracy promedio: 0.61\n",
      "Desviación estándar: 0.03\n"
     ]
    }
   ],
   "source": [
    "from sklearn.model_selection import cross_val_score\n",
    "from sklearn.naive_bayes import GaussianNB\n",
    "from sklearn.model_selection import StratifiedKFold\n",
    "\n",
    "bayesCruzado = GaussianNB()\n",
    "cv = StratifiedKFold(n_splits=5, shuffle=True, random_state=42)\n",
    "cv_scores = cross_val_score(bayesCruzado, X_train_clf, y_train_clf, cv=cv, scoring='accuracy')\n",
    "\n",
    "print(\"Scores por fold:\", cv_scores)\n",
    "print(f\"Accuracy promedio: {cv_scores.mean():.2f}\")\n",
    "print(f\"Desviación estándar: {cv_scores.std():.2f}\")\n"
   ]
  },
  {
   "cell_type": "markdown",
   "metadata": {},
   "source": [
    "### Comparación Final de Modelos con Validación Cruzada\n",
    "\n",
    "Se implementó una **validación cruzada estratificada de 5 particiones**. Los resultados fueron los siguientes:\n",
    "\n",
    "- **Precisión promedio (Cross-Validation):** **0.61**\n",
    "- **Desviación estándar:** **0.03**\n",
    "\n",
    "Este resultado es **superior al 0.56 de precisión** obtenido anteriormente con el conjunto de prueba. Por lo tanto, se concluye que **el modelo con validación cruzada funcionó mejor**, al ofrecer una **mayor precisión y mayor estabilidad** en sus predicciones.\n",
    "\n",
    "### Conclusión Comparativa General\n",
    "\n",
    "| Modelo                      | Evaluación           | Precisión / $R^2$ |\n",
    "|----------------------------|----------------------|----------------|\n",
    "| Naïve Bayes (conjunto prueba)     | Accuracy             | 0.56           |\n",
    "| Naïve Bayes (validación cruzada) | Accuracy promedio    | **0.61**       |\n",
    "| Árbol de Decisión (regresión)    | $R^2$ Score             | **0.85**       |\n",
    "| Gaussian Process Regression      | $R^2$ Score             | 0.76           |\n",
    "| Regresión Lineal                | $R^2$ Score             | 0.57           |\n",
    "\n",
    "- **Clasificación:** El modelo **Naïve Bayes con validación cruzada** es superior al modelo sin validación, ya que muestra mayor precisión y consistencia.\n",
    "- **Regresión:** El modelo **Árbol de Decisión** sigue siendo el mejor para predecir precios, superando al resto en todas las métricas."
   ]
  },
  {
   "cell_type": "markdown",
   "metadata": {},
   "source": [
    "## Uso de valores de hiperparámetros"
   ]
  },
  {
   "cell_type": "code",
   "execution_count": 40,
   "metadata": {},
   "outputs": [
    {
     "name": "stdout",
     "output_type": "stream",
     "text": [
      "Mejores hiperparámetros: {'max_depth': 10, 'min_samples_leaf': 4, 'min_samples_split': 2}\n"
     ]
    }
   ],
   "source": [
    "from sklearn.model_selection import GridSearchCV\n",
    "\n",
    "# Definir el modelo base\n",
    "dt = DecisionTreeRegressor(random_state=42)\n",
    "\n",
    "# Definir la grilla de hiperparámetros\n",
    "params = {\n",
    "    'max_depth': [5, 10, 15, 20, None],\n",
    "    'min_samples_split': [2, 5, 10],\n",
    "    'min_samples_leaf': [1, 2, 4]\n",
    "}\n",
    "\n",
    "# Búsqueda con validación cruzada\n",
    "grid_search = GridSearchCV(dt, params, cv=5, scoring='r2', n_jobs=-1)\n",
    "grid_search.fit(X_train, y_train)\n",
    "\n",
    "# Mejor modelo\n",
    "dt_mejorado = grid_search.best_estimator_\n",
    "print(\"Mejores hiperparámetros:\", grid_search.best_params_)\n"
   ]
  },
  {
   "cell_type": "code",
   "execution_count": 41,
   "metadata": {},
   "outputs": [
    {
     "name": "stdout",
     "output_type": "stream",
     "text": [
      "MAE ajustado: 0.02\n",
      "MSE ajustado: 0.00\n",
      "R^2 Score ajustado: 0.89\n"
     ]
    }
   ],
   "source": [
    "# Predicción con el modelo ajustado\n",
    "y_pred_best_dt = dt_mejorado.predict(X_test)\n",
    "\n",
    "# Métricas\n",
    "mae_mejorado = mean_absolute_error(y_test, y_pred_best_dt)\n",
    "mse_mejorado = mean_squared_error(y_test, y_pred_best_dt)\n",
    "r2_mejorado = r2_score(y_test, y_pred_best_dt)\n",
    "\n",
    "print(f\"MAE ajustado: {mae_mejorado:.2f}\")\n",
    "print(f\"MSE ajustado: {mse_mejorado:.2f}\")\n",
    "print(f\"R^2 Score ajustado: {r2_mejorado:.2f}\")\n"
   ]
  },
  {
   "cell_type": "code",
   "execution_count": null,
   "metadata": {},
   "outputs": [
    {
     "name": "stdout",
     "output_type": "stream",
     "text": [
      "Mejor valor de var_smoothing: {'var_smoothing': 1e-06}\n",
      "Accuracy ajustado Naive Bayes: 0.62\n"
     ]
    }
   ],
   "source": [
    "params_nb = {\n",
    "    'var_smoothing': [1e-9, 1e-8, 1e-7, 1e-6]\n",
    "}\n",
    "\n",
    "nb = GaussianNB()\n",
    "b_gs = GridSearchCV(nb, params_nb, cv=5, scoring='accuracy')\n",
    "b_gs.fit(X_train_clf, y_train_clf)\n",
    "\n",
    "nb_mejorado = b_gs.best_estimator_\n",
    "print(\"Mejor valor de smoothing:\", b_gs.best_params_)\n",
    "\n",
    "# Evaluar\n",
    "y_pred_nb = nb_mejorado.predict(X_test_clf)\n",
    "accuracy_best_nb = accuracy_score(y_test_clf, y_pred_nb)\n",
    "print(f\"Accuracy Naive Bayes(ajustado): {accuracy_best_nb:.2f}\")\n"
   ]
  },
  {
   "cell_type": "markdown",
   "metadata": {},
   "source": [
    "### Ajuste de Hiperparámetros y Evaluación de Mejora\n",
    "\n",
    "En base a la búsqueda de hiperparámetros utilizando `GridSearchCV` con validación cruzada para mejorar el rendimiento de los modelos más representativos como *Árbol de Decisión para regresión* y *Naïve Bayes para clasificación*.\n",
    "\n",
    "#### Árbol de Decisión\n",
    "\n",
    "Después de probar varias combinaciones de parámetros, los **mejores hiperparámetros encontrados** fueron:\n",
    "\n",
    "- `max_depth`: 10  \n",
    "- `min_samples_split`: 2  \n",
    "- `min_samples_leaf`: 4\n",
    "\n",
    "Con estos parámetros, el modelo afinado obtuvo:\n",
    "\n",
    "- **MAE:** 0.02  \n",
    "- **MSE:** 0.00  \n",
    "- **$R^2$ Score:** **0.89**\n",
    "\n",
    "Por lo tanto se tuvo una **mejora significativa** respecto al modelo base ($R^2$ de 0.85), confirmando que la afinación de hiperparámetros mejoró el rendimiento del modelo\n",
    "\n",
    "#### Naïve Bayes\n",
    "\n",
    "Para este modelo, se probó el hiperparámetro `var_smoothing`. El mejor valor encontrado fue:\n",
    "\n",
    "- `var_smoothing`: **1e-06**\n",
    "\n",
    "Con este ajuste, el modelo logró una **precisión (accuracy)** de **0.62**, superando ligeramente el resultado anterior de 0.61 (validación cruzada).\n",
    "\n",
    "\n",
    "| Modelo                  | Resultado Original | Resultado Afinado | Mejora |\n",
    "|------------------------|--------------------|--------------------|--------|\n",
    "| Árbol de Decisión ($R^2$) | 0.85               | **0.89**           | sí     |\n",
    "| Naïve Bayes (Accuracy) | 0.61               | **0.62**           | sí     |\n",
    "\n",
    "- Ambos modelos **mejoraron su rendimiento** con la afinación de hiperparámetros.\n",
    "- **El Árbol de Decisión fue el modelo que más se benefició**, reforzando su posición como el mejor modelo para la tarea de regresión de precios de viviendas.\n"
   ]
  },
  {
   "cell_type": "markdown",
   "metadata": {},
   "source": [
    "## Comparación de eficiencia de algoritmos"
   ]
  },
  {
   "cell_type": "code",
   "execution_count": 51,
   "metadata": {},
   "outputs": [],
   "source": [
    "import time\n",
    "from sklearn.naive_bayes import GaussianNB\n",
    "from sklearn.tree import DecisionTreeClassifier\n",
    "from sklearn.ensemble import RandomForestClassifier\n",
    "from sklearn.metrics import accuracy_score\n",
    "\n",
    "def evaluarModelo(modelo, nombre, X_train, y_train, X_test, y_test):\n",
    "  inicio = time.time()\n",
    "  modelo.fit(X_train, y_train)\n",
    "  fin = time.time()\n",
    "\n",
    "  y_pred = modelo.predict(X_test)\n",
    "  precision = accuracy_score(y_test, y_pred)\n",
    "  tiempo_entrenamiento = fin - inicio\n",
    "\n",
    "  print(f\"\\nModelo: {nombre}\")\n",
    "  print(f\"  - Precisión: {precision:.2f}\")\n",
    "  print(f\"  - Tiempo de entrenamiento: {tiempo_entrenamiento:.4f} segundos\")\n"
   ]
  },
  {
   "cell_type": "code",
   "execution_count": 52,
   "metadata": {},
   "outputs": [
    {
     "name": "stdout",
     "output_type": "stream",
     "text": [
      "\n",
      "Modelo: Naive Bayes\n",
      "  - Precisión: 0.56\n",
      "  - Tiempo de entrenamiento: 0.0125 segundos\n",
      "\n",
      "Modelo: Árbol de Decisión\n",
      "  - Precisión: 0.74\n",
      "  - Tiempo de entrenamiento: 0.0464 segundos\n",
      "\n",
      "Modelo: Random Forest\n",
      "  - Precisión: 0.84\n",
      "  - Tiempo de entrenamiento: 0.2956 segundos\n"
     ]
    }
   ],
   "source": [
    "# Lista de modelos a evaluar\n",
    "modelos = [\n",
    "  (GaussianNB(), \"Naive Bayes\"),\n",
    "  (DecisionTreeClassifier(random_state=42), \"Árbol de Decisión\"),\n",
    "  (RandomForestClassifier(random_state=42, n_estimators=100), \"Random Forest\")\n",
    "]\n",
    "\n",
    "# Evaluar cada modelo\n",
    "for modelo, nombre in modelos:\n",
    "  evaluarModelo(modelo, nombre, X_train_clf, y_train_clf, X_test_clf, y_test_clf)"
   ]
  },
  {
   "cell_type": "markdown",
   "metadata": {},
   "source": [
    "### Comparación de Modelos de Clasificación: Naïve Bayes, Árbol de Decisión y Random Forest\n",
    "\n",
    "Para la categoría `SalePrice_Category` y usando los modelos **Naïve Bayes**, **Árbol de Decisión** y **Random Forest** se compararon en cuanto a precisión y tiempo de entrenamiento:\n",
    "\n",
    "| Modelo            | Precisión (Accuracy) | Tiempo de entrenamiento |\n",
    "|------------------|----------------------|--------------------------|\n",
    "| Naïve Bayes       | 0.56                 | 0.0190 s                 |\n",
    "| Árbol de Decisión | 0.74                 | 0.0400 s                 |\n",
    "| Random Forest     | **0.84**             | **0.3126 s**             |\n",
    "\n",
    "- **Random Forest fue el modelo más preciso (84%)**, lo que lo convierte en el más adecuado para tareas de clasificación en este caso. Sin embargo, en cueanto tiempo de entrenamiento fue el que más se tardó.\n",
    "- **Naive Bayes fue el más rápido**, pero también el menos preciso. Es útil cuando se prioriza la velocidad por encima de la exactitud.\n",
    "- **El Árbol de Decisión** fue el punto intermedio de los modelos donde tuvo buena presición y tiempo moderado en base a los 2 modelos anteriores."
   ]
  },
  {
   "cell_type": "markdown",
   "metadata": {},
   "source": [
    "## Conclusiones"
   ]
  },
  {
   "cell_type": "markdown",
   "metadata": {},
   "source": [
    "1. **Preprocesamiento y adaptación del problema:**  \n",
    "   Dado que Naïve Bayes no está diseñado para regresión continua, se optó por discretizar la variable `SalePrice` en categorías (*económica*, *intermedia* y *cara*), permitiendo aplicar modelos de clasificación. Además, se probó una alternativa más flexible para regresión con **Gaussian Process Regression (GPR)**.\n",
    "\n",
    "2. **Modelado de regresión:**\n",
    "   - **Árbol de Decisión** fue el modelo con mejor desempeño predictivo ($R^2$ = 0.85), mejorado a $R^2$ = **0.89** tras afinación de hiperparámetros.\n",
    "   - **GPR** alcanzó un $R^2$ de **0.76**, mostrando buen comportamiento a pesar de la transformación de la variable objetivo.\n",
    "   - **Regresión Lineal** tuvo el peor rendimiento ($R^2$ = 0.57), limitada para capturar relaciones no lineales.\n",
    "\n",
    "3. **Modelado de clasificación con Naïve Bayes:**\n",
    "   - Se obtuvo una precisión de **0.56**, que mejoró a **0.61** al usar validación cruzada, y **0.62** tras ajustar el hiperparámetro `var_smoothing`.\n",
    "   - El modelo fue rápido y consistente, pero no el más preciso.\n",
    "\n",
    "4. **Comparación con otros clasificadores:**\n",
    "   - **Random Forest** alcanzó la mejor precisión (**0.84**) para clasificación, aunque fue el más lento.\n",
    "   - **Árbol de Decisión** logró un buen equilibrio (0.74 de precisión).\n",
    "   - **Naïve Bayes** fue el más rápido, pero el menos preciso.\n",
    "\n",
    "5. **Validación y evaluación:**\n",
    "   - Se usaron métricas de evaluación estándar (MAE, MSE, $R^2$, Accuracy), matriz de confusión y validación cruzada.\n",
    "   - No se detectó sobreajuste severo en los modelos, aunque Naïve Bayes mostró un ligero sesgo.\n",
    "\n",
    "6. **Importancia de la afinación de hiperparámetros:**\n",
    "   - La búsqueda con `GridSearchCV` permitió **mejorar significativamente el rendimiento** del Árbol de Decisión y, en menor medida, de Naïve Bayes.\n",
    "\n",
    "- Para **regresión de precios**, el **Árbol de Decisión afinado** fue el mejor modelo.\n",
    "- Para **clasificación de rangos de precios**, el **Random Forest** fue el más preciso.\n",
    "- **Naïve Bayes** es útil por su simplicidad y velocidad, pero **no es el más recomendable cuando se busca alta precisión**."
   ]
  }
 ],
 "metadata": {
  "kernelspec": {
   "display_name": ".venv",
   "language": "python",
   "name": "python3"
  },
  "language_info": {
   "codemirror_mode": {
    "name": "ipython",
    "version": 3
   },
   "file_extension": ".py",
   "mimetype": "text/x-python",
   "name": "python",
   "nbconvert_exporter": "python",
   "pygments_lexer": "ipython3",
   "version": "3.12.6"
  }
 },
 "nbformat": 4,
 "nbformat_minor": 2
}
