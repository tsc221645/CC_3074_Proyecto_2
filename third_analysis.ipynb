{
 "cells": [
  {
   "cell_type": "markdown",
   "metadata": {},
   "source": [
    "# Naïve Bayes"
   ]
  },
  {
   "cell_type": "markdown",
   "metadata": {},
   "source": [
    "## Proyecto 2 - Entrega 3"
   ]
  },
  {
   "cell_type": "code",
   "execution_count": 53,
   "metadata": {},
   "outputs": [],
   "source": [
    "import pandas as pd\n",
    "import numpy as np\n",
    "import matplotlib.pyplot as plt\n",
    "import seaborn as sns\n",
    "from sklearn.naive_bayes import GaussianNB\n",
    "from sklearn.metrics import accuracy_score, classification_report, confusion_matrix\n",
    "from sklearn.preprocessing import KBinsDiscretizer\n",
    "from sklearn.linear_model import LinearRegression\n",
    "from sklearn.tree import DecisionTreeRegressor\n",
    "from sklearn.metrics import mean_absolute_error, mean_squared_error, r2_score"
   ]
  },
  {
   "cell_type": "markdown",
   "metadata": {},
   "source": [
    "### Modelo de Regresión con Naïve Bayes"
   ]
  },
  {
   "cell_type": "markdown",
   "metadata": {},
   "source": [
    "Debido a que Naïve Bayes es un modelo probabilístico que se encuentra diseñado para clasificar es importante notar que no esta diseñado para una regresión continua. Por lo que se decidió utilizar un Gaussian Process Regression que tiene una mayor flezibilidad para la regresión."
   ]
  },
  {
   "cell_type": "code",
   "execution_count": 54,
   "metadata": {},
   "outputs": [
    {
     "name": "stdout",
     "output_type": "stream",
     "text": [
      "         Id  MSSubClass  LotFrontage   LotArea  OverallQual  OverallCond  \\\n",
      "0  1.334629    0.294118     0.133562  0.024773    -0.795151    -1.416142   \n",
      "1  0.684516    0.352941          NaN  0.044329     0.651479    -0.517200   \n",
      "2  1.147187    0.352941          NaN  0.041814    -1.518467     3.078570   \n",
      "3  1.662057    0.235294     0.133562  0.096427    -0.795151    -0.517200   \n",
      "4  0.191000    0.000000     0.195205  0.041319    -0.071836     0.381743   \n",
      "\n",
      "   YearBuilt  YearRemodAdd  MasVnrArea  ExterQual  ...  SaleType_ConLw  \\\n",
      "0  -2.625409     -0.962566    0.000000   1.000000  ...           False   \n",
      "1   0.653545      0.345679    0.047500   0.666667  ...           False   \n",
      "2  -0.207594      0.781761    0.000000   1.000000  ...           False   \n",
      "3   1.117235      0.975575    0.000000   0.666667  ...           False   \n",
      "4   0.090492      0.684854    0.061875   1.000000  ...           False   \n",
      "\n",
      "   SaleType_New  SaleType_Oth  SaleType_WD  SaleCondition_Abnorml  \\\n",
      "0         False         False         True                  False   \n",
      "1         False         False         True                  False   \n",
      "2         False         False         True                  False   \n",
      "3         False         False         True                  False   \n",
      "4         False         False         True                  False   \n",
      "\n",
      "   SaleCondition_AdjLand  SaleCondition_Alloca  SaleCondition_Family  \\\n",
      "0                  False                 False                 False   \n",
      "1                  False                 False                 False   \n",
      "2                  False                 False                 False   \n",
      "3                  False                 False                 False   \n",
      "4                  False                 False                 False   \n",
      "\n",
      "   SaleCondition_Normal  SaleCondition_Partial  \n",
      "0                  True                  False  \n",
      "1                  True                  False  \n",
      "2                  True                  False  \n",
      "3                  True                  False  \n",
      "4                  True                  False  \n",
      "\n",
      "[5 rows x 255 columns]\n",
      "         Id  MSSubClass  LotFrontage   LotArea  OverallQual  OverallCond  \\\n",
      "0 -0.475721    0.000000          NaN  0.146617    -0.071836    -2.315085   \n",
      "1 -0.565882    0.176471     0.198630  0.038281    -0.071836     1.280685   \n",
      "2 -0.641808    0.176471          NaN  0.026712    -0.795151    -1.416142   \n",
      "3 -1.068889    0.235294     0.212329  0.040688     0.651479    -0.517200   \n",
      "4 -0.176764    0.823529     0.000000  0.001776    -0.071836    -0.517200   \n",
      "\n",
      "   YearBuilt  YearRemodAdd  MasVnrArea  ExterQual  ...  SaleType_ConLw  \\\n",
      "0  -0.472560     -0.478030         NaN   0.666667  ...           False   \n",
      "1  -1.002492     -1.689368    0.000000   1.000000  ...           False   \n",
      "2  -0.704406     -1.689368    0.100625   1.000000  ...           False   \n",
      "3   0.189854     -0.381123    0.186875   1.000000  ...           False   \n",
      "4  -0.008870     -0.671845    0.238125   1.000000  ...           False   \n",
      "\n",
      "   SaleType_New  SaleType_Oth  SaleType_WD  SaleCondition_Abnorml  \\\n",
      "0         False         False         True                  False   \n",
      "1         False         False         True                  False   \n",
      "2         False         False         True                  False   \n",
      "3         False         False         True                  False   \n",
      "4         False         False         True                  False   \n",
      "\n",
      "   SaleCondition_AdjLand  SaleCondition_Alloca  SaleCondition_Family  \\\n",
      "0                  False                  True                 False   \n",
      "1                  False                 False                 False   \n",
      "2                  False                 False                 False   \n",
      "3                  False                 False                 False   \n",
      "4                  False                 False                  True   \n",
      "\n",
      "   SaleCondition_Normal  SaleCondition_Partial  \n",
      "0                 False                  False  \n",
      "1                  True                  False  \n",
      "2                  True                  False  \n",
      "3                  True                  False  \n",
      "4                 False                  False  \n",
      "\n",
      "[5 rows x 255 columns]\n"
     ]
    }
   ],
   "source": [
    "train_data = pd.read_csv(\"data/train_data_scaled.csv\")\n",
    "test_data = pd.read_csv(\"data/test_data_scaled.csv\")\n",
    "print(train_data.head())\n",
    "print(test_data.head())"
   ]
  },
  {
   "cell_type": "code",
   "execution_count": 62,
   "metadata": {},
   "outputs": [],
   "source": [
    "# Convertir SalePrice en 3 categorías: Economica, intermedia y cara\n",
    "# 0 = economica, 1 = intermedia, 2 = cara\n",
    "#discretizer = KBinsDiscretizer(n_bins=3, encode=\"ordinal\", strategy=\"quantile\")\n",
    "#train_data[\"SalePrice_Category\"] = discretizer.fit_transform(train_data[[\"SalePrice\"]])\n",
    "#test_data[\"SalePrice_Category\"] = discretizer.transform(test_data[[\"SalePrice\"]])\n",
    "X_train = train_data.drop(columns=[\"SalePrice\", \"SalePrice_Category\"])\n",
    "y_train = train_data[\"SalePrice_Category\"]\n",
    "\n",
    "X_test = test_data.drop(columns=[\"SalePrice\", \"SalePrice_Category\"])\n",
    "y_test = test_data[\"SalePrice_Category\"]\n",
    "X_train = X_train.fillna(X_train.mean())\n",
    "X_test = X_test.fillna(X_test.mean())\n"
   ]
  },
  {
   "cell_type": "code",
   "execution_count": 63,
   "metadata": {},
   "outputs": [
    {
     "name": "stdout",
     "output_type": "stream",
     "text": [
      "Resultados de Gaussian Process Regression:\n",
      "MAE: 0.30\n",
      "MSE: 0.16\n",
      "R² Score: 0.76\n"
     ]
    }
   ],
   "source": [
    "from sklearn.gaussian_process import GaussianProcessRegressor\n",
    "from sklearn.gaussian_process.kernels import RBF, ConstantKernel as C\n",
    "\n",
    "# Definir kernel\n",
    "kernel = C(1.0, (1e-3, 1e3)) * RBF(1.0, (1e-3, 1e3))\n",
    "\n",
    "# Crear el modelo\n",
    "gp_model = GaussianProcessRegressor(kernel=kernel, n_restarts_optimizer=10)\n",
    "\n",
    "# Entrenar el modelo\n",
    "gp_model.fit(X_train, y_train)\n",
    "\n",
    "# Hacer predicciones\n",
    "y_pred_gp = gp_model.predict(X_test)\n",
    "\n",
    "# Evaluar el modelo\n",
    "mae_gp = mean_absolute_error(y_test, y_pred_gp)\n",
    "mse_gp = mean_squared_error(y_test, y_pred_gp)\n",
    "r2_gp = r2_score(y_test, y_pred_gp)\n",
    "\n",
    "print(\"Resultados de Gaussian Process Regression:\")\n",
    "print(f\"MAE: {mae_gp:.2f}\")\n",
    "print(f\"MSE: {mse_gp:.2f}\")\n",
    "print(f\"R² Score: {r2_gp:.2f}\")\n"
   ]
  },
  {
   "cell_type": "markdown",
   "metadata": {},
   "source": [
    "### Explicación de resultados obtenidos "
   ]
  },
  {
   "cell_type": "markdown",
   "metadata": {},
   "source": [
    "El modelo de Gaussian Process Regression (GPR) tiene un buen rendimiento, con un R² Score de 0.76, lo que significa que explica el 76% de la variabilidad en los precios de las casas."
   ]
  },
  {
   "cell_type": "markdown",
   "metadata": {},
   "source": [
    "### Comparación de resultados de regresión lineal y árbol de decisión"
   ]
  },
  {
   "cell_type": "code",
   "execution_count": 64,
   "metadata": {},
   "outputs": [],
   "source": [
    "X_train = train_data.drop(columns=[\"SalePrice\"])\n",
    "y_train = train_data[\"SalePrice\"]\n",
    "X_test = test_data.drop(columns=[\"SalePrice\"])\n",
    "y_test = test_data[\"SalePrice\"]\n",
    "X_train = X_train.fillna(X_train.mean())\n",
    "X_test = X_test.fillna(X_test.mean())"
   ]
  },
  {
   "cell_type": "code",
   "execution_count": 65,
   "metadata": {},
   "outputs": [
    {
     "name": "stdout",
     "output_type": "stream",
     "text": [
      "Resultados de Regresión Lineal:\n",
      "MAE: 0.03\n",
      "MSE: 0.01\n",
      "R² Score: 0.57\n"
     ]
    }
   ],
   "source": [
    "lr_model = LinearRegression()\n",
    "lr_model.fit(X_train, y_train)\n",
    "y_pred_lr = lr_model.predict(X_test)\n",
    "mae_lr = mean_absolute_error(y_test, y_pred_lr)\n",
    "mse_lr = mean_squared_error(y_test, y_pred_lr)\n",
    "r2_lr = r2_score(y_test, y_pred_lr)\n",
    "print(\"Resultados de Regresión Lineal:\")\n",
    "print(f\"MAE: {mae_lr:.2f}\")\n",
    "print(f\"MSE: {mse_lr:.2f}\")\n",
    "print(f\"R² Score: {r2_lr:.2f}\")"
   ]
  },
  {
   "cell_type": "code",
   "execution_count": 66,
   "metadata": {},
   "outputs": [
    {
     "name": "stdout",
     "output_type": "stream",
     "text": [
      "\n",
      "Resultados de Árbol de Decisión:\n",
      "MAE: 0.03\n",
      "MSE: 0.00\n",
      "R² Score: 0.85\n"
     ]
    }
   ],
   "source": [
    "dt_model = DecisionTreeRegressor(random_state=42)\n",
    "dt_model.fit(X_train, y_train)\n",
    "y_pred_dt = dt_model.predict(X_test)\n",
    "mae_dt = mean_absolute_error(y_test, y_pred_dt)\n",
    "mse_dt = mean_squared_error(y_test, y_pred_dt)\n",
    "r2_dt = r2_score(y_test, y_pred_dt)\n",
    "print(\"\\nResultados de Árbol de Decisión:\")\n",
    "print(f\"MAE: {mae_dt:.2f}\")\n",
    "print(f\"MSE: {mse_dt:.2f}\")\n",
    "print(f\"R² Score: {r2_dt:.2f}\")"
   ]
  },
  {
   "cell_type": "code",
   "execution_count": 76,
   "metadata": {},
   "outputs": [
    {
     "name": "stdout",
     "output_type": "stream",
     "text": [
      "                        Modelo  MAE (Error Medio Absoluto)  \\\n",
      "0             Regresión Lineal                    0.032096   \n",
      "1            Árbol de Decisión                    0.028353   \n",
      "2  Gaussian Process Regression                    0.303659   \n",
      "\n",
      "   MSE (Error Cuadrático Medio)  R² Score  \n",
      "0                      0.005514  0.566883  \n",
      "1                      0.001869  0.853177  \n",
      "2                      0.164353  0.758099  \n"
     ]
    }
   ],
   "source": [
    "resultados = pd.DataFrame({\n",
    "    \"Modelo\": [\"Regresión Lineal\", \"Árbol de Decisión\", \"Gaussian Process Regression\"],\n",
    "    \"MAE (Error Medio Absoluto)\": [mae_lr, mae_dt, mae_gp],\n",
    "    \"MSE (Error Cuadrático Medio)\": [mse_lr, mse_dt, mse_gp],\n",
    "    \"R² Score\": [r2_lr, r2_dt, r2_gp]\n",
    "})\n",
    "print(resultados)"
   ]
  },
  {
   "cell_type": "code",
   "execution_count": 78,
   "metadata": {},
   "outputs": [
    {
     "name": "stderr",
     "output_type": "stream",
     "text": [
      "/tmp/ipykernel_47223/2879455252.py:3: FutureWarning: \n",
      "\n",
      "Passing `palette` without assigning `hue` is deprecated and will be removed in v0.14.0. Assign the `x` variable to `hue` and set `legend=False` for the same effect.\n",
      "\n",
      "  sns.barplot(x=\"Modelo\", y=\"R² Score\", data=resultados, palette=\"viridis\")\n"
     ]
    },
    {
     "data": {
      "image/png": "[encoded data removed]",
      "text/plain": [
       "<Figure size 1000x500 with 1 Axes>"
      ]
     },
     "metadata": {},
     "output_type": "display_data"
    },
    {
     "name": "stderr",
     "output_type": "stream",
     "text": [
      "/tmp/ipykernel_47223/2879455252.py:9: FutureWarning: \n",
      "\n",
      "Passing `palette` without assigning `hue` is deprecated and will be removed in v0.14.0. Assign the `x` variable to `hue` and set `legend=False` for the same effect.\n",
      "\n",
      "  sns.barplot(x=\"Modelo\", y=\"MAE (Error Medio Absoluto)\", data=resultados, palette=\"magma\")\n"
     ]
    },
    {
     "data": {
      "image/png": "[encoded data removed]",
      "text/plain": [
       "<Figure size 1000x500 with 1 Axes>"
      ]
     },
     "metadata": {},
     "output_type": "display_data"
    },
    {
     "name": "stderr",
     "output_type": "stream",
     "text": [
      "/tmp/ipykernel_47223/2879455252.py:14: FutureWarning: \n",
      "\n",
      "Passing `palette` without assigning `hue` is deprecated and will be removed in v0.14.0. Assign the `x` variable to `hue` and set `legend=False` for the same effect.\n",
      "\n",
      "  sns.barplot(x=\"Modelo\", y=\"MSE (Error Cuadrático Medio)\", data=resultados, palette=\"coolwarm\")\n"
     ]
    },
    {
     "data": {
      "image/png": "[encoded data removed]",
      "text/plain": [
       "<Figure size 1000x500 with 1 Axes>"
      ]
     },
     "metadata": {},
     "output_type": "display_data"
    }
   ],
   "source": [
    "sns.set_style(\"whitegrid\")\n",
    "plt.figure(figsize=(10, 5))\n",
    "sns.barplot(x=\"Modelo\", y=\"R² Score\", data=resultados, palette=\"viridis\")\n",
    "plt.title(\"Comparación de Modelos - R² Score\")\n",
    "plt.ylabel(\"R² Score (Mayor es mejor)\")\n",
    "plt.ylim(0, 1) \n",
    "plt.show()\n",
    "plt.figure(figsize=(10, 5))\n",
    "sns.barplot(x=\"Modelo\", y=\"MAE (Error Medio Absoluto)\", data=resultados, palette=\"magma\")\n",
    "plt.title(\"Comparación de Modelos - MAE (Error Medio Absoluto)\")\n",
    "plt.ylabel(\"MAE (Menor es mejor)\")\n",
    "plt.show()\n",
    "plt.figure(figsize=(10, 5))\n",
    "sns.barplot(x=\"Modelo\", y=\"MSE (Error Cuadrático Medio)\", data=resultados, palette=\"coolwarm\")\n",
    "plt.title(\"Comparación de Modelos - MSE (Error Cuadrático Medio)\")\n",
    "plt.ylabel(\"MSE (Menor es mejor)\")\n",
    "plt.show()"
   ]
  },
  {
   "cell_type": "markdown",
   "metadata": {},
   "source": []
  },
  {
   "cell_type": "markdown",
   "metadata": {},
   "source": [
    "### ¿Qué modelo funcionó mejor?"
   ]
  },
  {
   "cell_type": "markdown",
   "metadata": {},
   "source": []
  },
  {
   "cell_type": "markdown",
   "metadata": {},
   "source": [
    "### Modelo de Clasificación con Naïve Bayes"
   ]
  },
  {
   "cell_type": "code",
   "execution_count": null,
   "metadata": {},
   "outputs": [],
   "source": []
  },
  {
   "cell_type": "code",
   "execution_count": null,
   "metadata": {},
   "outputs": [],
   "source": []
  },
  {
   "cell_type": "code",
   "execution_count": null,
   "metadata": {},
   "outputs": [],
   "source": []
  },
  {
   "cell_type": "markdown",
   "metadata": {},
   "source": [
    "### Eficiencia de los algoritmos"
   ]
  },
  {
   "cell_type": "code",
   "execution_count": null,
   "metadata": {},
   "outputs": [],
   "source": []
  },
  {
   "cell_type": "code",
   "execution_count": null,
   "metadata": {},
   "outputs": [],
   "source": []
  },
  {
   "cell_type": "code",
   "execution_count": null,
   "metadata": {},
   "outputs": [],
   "source": []
  },
  {
   "cell_type": "markdown",
   "metadata": {},
   "source": [
    "### Análisis de eficiencia - Matriz de confusión"
   ]
  },
  {
   "cell_type": "code",
   "execution_count": null,
   "metadata": {},
   "outputs": [],
   "source": []
  },
  {
   "cell_type": "code",
   "execution_count": null,
   "metadata": {},
   "outputs": [],
   "source": []
  },
  {
   "cell_type": "code",
   "execution_count": null,
   "metadata": {},
   "outputs": [],
   "source": []
  },
  {
   "cell_type": "markdown",
   "metadata": {},
   "source": [
    "### Errores y su importancia"
   ]
  },
  {
   "cell_type": "markdown",
   "metadata": {},
   "source": []
  },
  {
   "cell_type": "markdown",
   "metadata": {},
   "source": [
    "### ¿Existe un sobre ajuste del modelo?"
   ]
  },
  {
   "cell_type": "markdown",
   "metadata": {},
   "source": []
  },
  {
   "cell_type": "markdown",
   "metadata": {},
   "source": [
    "### Modelo con validación cruzada"
   ]
  },
  {
   "cell_type": "code",
   "execution_count": null,
   "metadata": {},
   "outputs": [],
   "source": []
  },
  {
   "cell_type": "code",
   "execution_count": null,
   "metadata": {},
   "outputs": [],
   "source": []
  },
  {
   "cell_type": "markdown",
   "metadata": {},
   "source": [
    "### Comparación del modelo con validación cruzada con los modelos anteriiores"
   ]
  },
  {
   "cell_type": "markdown",
   "metadata": {},
   "source": []
  },
  {
   "cell_type": "markdown",
   "metadata": {},
   "source": [
    "### Uso de valores de hiperparámetros"
   ]
  },
  {
   "cell_type": "code",
   "execution_count": null,
   "metadata": {},
   "outputs": [],
   "source": []
  },
  {
   "cell_type": "code",
   "execution_count": null,
   "metadata": {},
   "outputs": [],
   "source": []
  },
  {
   "cell_type": "markdown",
   "metadata": {},
   "source": [
    "### Comparación de eficiencia de algoritmos"
   ]
  },
  {
   "cell_type": "markdown",
   "metadata": {},
   "source": []
  },
  {
   "cell_type": "markdown",
   "metadata": {},
   "source": [
    "### Conclusiones"
   ]
  },
  {
   "cell_type": "markdown",
   "metadata": {},
   "source": []
  },
  {
   "cell_type": "markdown",
   "metadata": {},
   "source": []
  }
 ],
 "metadata": {
  "kernelspec": {
   "display_name": "Python 3",
   "language": "python",
   "name": "python3"
  },
  "language_info": {
   "codemirror_mode": {
    "name": "ipython",
    "version": 3
   },
   "file_extension": ".py",
   "mimetype": "text/x-python",
   "name": "python",
   "nbconvert_exporter": "python",
   "pygments_lexer": "ipython3",
   "version": "3.13.2"
  }
 },
 "nbformat": 4,
 "nbformat_minor": 2
}
