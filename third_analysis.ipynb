{
 "cells": [
  {
   "cell_type": "markdown",
   "metadata": {},
   "source": [
    "# Naïve Bayes"
   ]
  },
  {
   "cell_type": "markdown",
   "metadata": {},
   "source": [
    "## Proyecto 2 - Entrega 3"
   ]
  },
  {
   "cell_type": "code",
   "execution_count": 39,
   "metadata": {},
   "outputs": [],
   "source": [
    "import pandas as pd\n",
    "import numpy as np\n",
    "import matplotlib.pyplot as plt\n",
    "import seaborn as sns\n",
    "from sklearn.naive_bayes import GaussianNB\n",
    "from sklearn.metrics import accuracy_score, classification_report, confusion_matrix\n",
    "from sklearn.preprocessing import KBinsDiscretizer\n",
    "\n"
   ]
  },
  {
   "cell_type": "markdown",
   "metadata": {},
   "source": [
    "### Modelo de Regresión con Naïve Bayes"
   ]
  },
  {
   "cell_type": "code",
   "execution_count": null,
   "metadata": {},
   "outputs": [
    {
     "name": "stdout",
     "output_type": "stream",
     "text": [
      "         Id  MSSubClass  LotFrontage   LotArea  OverallQual  OverallCond  \\\n",
      "0  1.334629    0.294118     0.133562  0.024773    -0.795151    -1.416142   \n",
      "1  0.684516    0.352941          NaN  0.044329     0.651479    -0.517200   \n",
      "2  1.147187    0.352941          NaN  0.041814    -1.518467     3.078570   \n",
      "3  1.662057    0.235294     0.133562  0.096427    -0.795151    -0.517200   \n",
      "4  0.191000    0.000000     0.195205  0.041319    -0.071836     0.381743   \n",
      "\n",
      "   YearBuilt  YearRemodAdd  MasVnrArea  ExterQual  ...  SaleType_ConLw  \\\n",
      "0  -2.625409     -0.962566    0.000000   1.000000  ...           False   \n",
      "1   0.653545      0.345679    0.047500   0.666667  ...           False   \n",
      "2  -0.207594      0.781761    0.000000   1.000000  ...           False   \n",
      "3   1.117235      0.975575    0.000000   0.666667  ...           False   \n",
      "4   0.090492      0.684854    0.061875   1.000000  ...           False   \n",
      "\n",
      "   SaleType_New  SaleType_Oth  SaleType_WD  SaleCondition_Abnorml  \\\n",
      "0         False         False         True                  False   \n",
      "1         False         False         True                  False   \n",
      "2         False         False         True                  False   \n",
      "3         False         False         True                  False   \n",
      "4         False         False         True                  False   \n",
      "\n",
      "   SaleCondition_AdjLand  SaleCondition_Alloca  SaleCondition_Family  \\\n",
      "0                  False                 False                 False   \n",
      "1                  False                 False                 False   \n",
      "2                  False                 False                 False   \n",
      "3                  False                 False                 False   \n",
      "4                  False                 False                 False   \n",
      "\n",
      "   SaleCondition_Normal  SaleCondition_Partial  \n",
      "0                  True                  False  \n",
      "1                  True                  False  \n",
      "2                  True                  False  \n",
      "3                  True                  False  \n",
      "4                  True                  False  \n",
      "\n",
      "[5 rows x 255 columns]\n",
      "         Id  MSSubClass  LotFrontage   LotArea  OverallQual  OverallCond  \\\n",
      "0 -0.475721    0.000000          NaN  0.146617    -0.071836    -2.315085   \n",
      "1 -0.565882    0.176471     0.198630  0.038281    -0.071836     1.280685   \n",
      "2 -0.641808    0.176471          NaN  0.026712    -0.795151    -1.416142   \n",
      "3 -1.068889    0.235294     0.212329  0.040688     0.651479    -0.517200   \n",
      "4 -0.176764    0.823529     0.000000  0.001776    -0.071836    -0.517200   \n",
      "\n",
      "   YearBuilt  YearRemodAdd  MasVnrArea  ExterQual  ...  SaleType_ConLw  \\\n",
      "0  -0.472560     -0.478030         NaN   0.666667  ...           False   \n",
      "1  -1.002492     -1.689368    0.000000   1.000000  ...           False   \n",
      "2  -0.704406     -1.689368    0.100625   1.000000  ...           False   \n",
      "3   0.189854     -0.381123    0.186875   1.000000  ...           False   \n",
      "4  -0.008870     -0.671845    0.238125   1.000000  ...           False   \n",
      "\n",
      "   SaleType_New  SaleType_Oth  SaleType_WD  SaleCondition_Abnorml  \\\n",
      "0         False         False         True                  False   \n",
      "1         False         False         True                  False   \n",
      "2         False         False         True                  False   \n",
      "3         False         False         True                  False   \n",
      "4         False         False         True                  False   \n",
      "\n",
      "   SaleCondition_AdjLand  SaleCondition_Alloca  SaleCondition_Family  \\\n",
      "0                  False                  True                 False   \n",
      "1                  False                 False                 False   \n",
      "2                  False                 False                 False   \n",
      "3                  False                 False                 False   \n",
      "4                  False                 False                  True   \n",
      "\n",
      "   SaleCondition_Normal  SaleCondition_Partial  \n",
      "0                 False                  False  \n",
      "1                  True                  False  \n",
      "2                  True                  False  \n",
      "3                  True                  False  \n",
      "4                 False                  False  \n",
      "\n",
      "[5 rows x 255 columns]\n",
      "Columnas en X_train pero no en X_test: set()\n",
      "Columnas en X_test pero no en X_train: set()\n"
     ]
    }
   ],
   "source": [
    "train_data = pd.read_csv(\"data/train_data_scaled.csv\")\n",
    "test_data = pd.read_csv(\"data/test_data_scaled.csv\")\n",
    "print(train_data.head())\n",
    "print(test_data.head())\n",
    "print(\"Columnas en X_train pero no en X_test:\", set(X_train.columns) - set(X_test.columns))\n",
    "print(\"Columnas en X_test pero no en X_train:\", set(X_test.columns) - set(X_train.columns))"
   ]
  },
  {
   "cell_type": "code",
   "execution_count": null,
   "metadata": {},
   "outputs": [],
   "source": [
    "# Convertir SalePrice en 3 categorías: Economica, intermedia y cara\n",
    "# 0 = economica, 1 = intermedia, 2 = cara\n",
    "discretizer = KBinsDiscretizer(n_bins=3, encode=\"ordinal\", strategy=\"quantile\")\n",
    "train_data[\"SalePrice_Category\"] = discretizer.fit_transform(train_data[[\"SalePrice\"]])\n",
    "test_data[\"SalePrice_Category\"] = discretizer.transform(test_data[[\"SalePrice\"]])\n",
    "X_train = train_data.drop(columns=[\"SalePrice\", \"SalePrice_Category\"])\n",
    "y_train = train_data[\"SalePrice_Category\"]\n",
    "\n",
    "X_test = test_data.drop(columns=[\"SalePrice\", \"SalePrice_Category\"])\n",
    "y_test = test_data[\"SalePrice_Category\"]\n",
    "X_train = X_train.fillna(X_train.mean())\n",
    "X_test = X_test.fillna(X_test.mean())\n"
   ]
  },
  {
   "cell_type": "code",
   "execution_count": null,
   "metadata": {},
   "outputs": [
    {
     "name": "stdout",
     "output_type": "stream",
     "text": [
      "Resultados del modelo de Clasificación con Naïve Bayes:\n",
      "Accuracy: 0.56\n",
      "Reporte de Clasificación:\n",
      "               precision    recall  f1-score   support\n",
      "\n",
      "         0.0       0.84      0.38      0.53       125\n",
      "         1.0       0.38      0.43      0.40       117\n",
      "         2.0       0.61      0.87      0.72       123\n",
      "\n",
      "    accuracy                           0.56       365\n",
      "   macro avg       0.61      0.56      0.55       365\n",
      "weighted avg       0.61      0.56      0.55       365\n",
      "\n"
     ]
    },
    {
     "data": {
      "image/png": "[encoded data removed]",
      "text/plain": [
       "<Figure size 600x400 with 2 Axes>"
      ]
     },
     "metadata": {},
     "output_type": "display_data"
    }
   ],
   "source": [
    "nb_model = GaussianNB()\n",
    "nb_model.fit(X_train, y_train)\n",
    "y_pred_nb = nb_model.predict(X_test)\n",
    "\n",
    "# precision del modelo\n",
    "accuracy_nb = accuracy_score(y_test, y_pred_nb)\n",
    "\n",
    "print(\"Resultados del modelo de Clasificación con Naïve Bayes:\")\n",
    "print(f\"Accuracy: {accuracy_nb:.2f}\")\n",
    "print(\"Reporte de Clasificación:\\n\", classification_report(y_test, y_pred_nb))\n",
    "\n",
    "# Matriz de confusión para visualizar los errores\n",
    "import seaborn as sns\n",
    "import matplotlib.pyplot as plt\n",
    "\n",
    "# 0 = economica, 1 = intermedia, 2 = cara\n",
    "plt.figure(figsize=(6, 4))\n",
    "sns.heatmap(confusion_matrix(y_test, y_pred_nb), annot=True, fmt=\"d\", cmap=\"Greens\")\n",
    "plt.xlabel(\"Predicción\")\n",
    "plt.ylabel(\"Real\")\n",
    "plt.title(\"Matriz de Confusión - Naïve Bayes\")\n",
    "plt.show()\n"
   ]
  },
  {
   "cell_type": "markdown",
   "metadata": {},
   "source": [
    "### Explicación de resultados obtenidos "
   ]
  },
  {
   "cell_type": "markdown",
   "metadata": {},
   "source": [
    "El modelo tiene una precisión del 56%, esto indica que acierta un poco más que la mitad de las predicciones. No es un valor muy alto. \n",
    "\n",
    "La clase 0 o económica presentó una precisión de 0.84 pero presentó un recall de 0.38 por lo que no detecta bien todas las casas económicas.\n",
    "\n",
    "La clase 1 o intermedia tiene los peores valores de precisión y recall con 0.38 y 0.43. El modelo presenta dificultades significativas para distinguir esta clase.\n",
    "\n",
    "La clase 2 o cara tiene un buena precisión de 0.87 y un recall aceptable de 0.61, indicando que si encuentra la mayoría de casas cara pero que presenta algunos errores en la predicción."
   ]
  },
  {
   "cell_type": "markdown",
   "metadata": {},
   "source": [
    "### Comparación de resultados de regresión linea y árbol de decisión"
   ]
  },
  {
   "cell_type": "markdown",
   "metadata": {},
   "source": []
  },
  {
   "cell_type": "markdown",
   "metadata": {},
   "source": [
    "### ¿Qué modelo funcionó mejor?"
   ]
  },
  {
   "cell_type": "markdown",
   "metadata": {},
   "source": []
  },
  {
   "cell_type": "markdown",
   "metadata": {},
   "source": [
    "### Modelo de Clasificación con Naïve Bayes"
   ]
  },
  {
   "cell_type": "code",
   "execution_count": null,
   "metadata": {},
   "outputs": [],
   "source": []
  },
  {
   "cell_type": "code",
   "execution_count": null,
   "metadata": {},
   "outputs": [],
   "source": []
  },
  {
   "cell_type": "code",
   "execution_count": null,
   "metadata": {},
   "outputs": [],
   "source": []
  },
  {
   "cell_type": "markdown",
   "metadata": {},
   "source": [
    "### Eficiencia de los algoritmos"
   ]
  },
  {
   "cell_type": "code",
   "execution_count": null,
   "metadata": {},
   "outputs": [],
   "source": []
  },
  {
   "cell_type": "code",
   "execution_count": null,
   "metadata": {},
   "outputs": [],
   "source": []
  },
  {
   "cell_type": "code",
   "execution_count": null,
   "metadata": {},
   "outputs": [],
   "source": []
  },
  {
   "cell_type": "markdown",
   "metadata": {},
   "source": [
    "### Análisis de eficiencia - Matriz de confusión"
   ]
  },
  {
   "cell_type": "code",
   "execution_count": null,
   "metadata": {},
   "outputs": [],
   "source": []
  },
  {
   "cell_type": "code",
   "execution_count": null,
   "metadata": {},
   "outputs": [],
   "source": []
  },
  {
   "cell_type": "code",
   "execution_count": null,
   "metadata": {},
   "outputs": [],
   "source": []
  },
  {
   "cell_type": "markdown",
   "metadata": {},
   "source": [
    "### Errores y su importancia"
   ]
  },
  {
   "cell_type": "markdown",
   "metadata": {},
   "source": []
  },
  {
   "cell_type": "markdown",
   "metadata": {},
   "source": [
    "### ¿Existe un sobre ajuste del modelo?"
   ]
  },
  {
   "cell_type": "markdown",
   "metadata": {},
   "source": []
  },
  {
   "cell_type": "markdown",
   "metadata": {},
   "source": [
    "### Modelo con validación cruzada"
   ]
  },
  {
   "cell_type": "code",
   "execution_count": null,
   "metadata": {},
   "outputs": [],
   "source": []
  },
  {
   "cell_type": "code",
   "execution_count": null,
   "metadata": {},
   "outputs": [],
   "source": []
  },
  {
   "cell_type": "markdown",
   "metadata": {},
   "source": [
    "### Comparación del modelo con validación cruzada con los modelos anteriiores"
   ]
  },
  {
   "cell_type": "markdown",
   "metadata": {},
   "source": []
  },
  {
   "cell_type": "markdown",
   "metadata": {},
   "source": [
    "### Uso de valores de hiperparámetros"
   ]
  },
  {
   "cell_type": "code",
   "execution_count": null,
   "metadata": {},
   "outputs": [],
   "source": []
  },
  {
   "cell_type": "code",
   "execution_count": null,
   "metadata": {},
   "outputs": [],
   "source": []
  },
  {
   "cell_type": "markdown",
   "metadata": {},
   "source": [
    "### Comparación de eficiencia de algoritmos"
   ]
  },
  {
   "cell_type": "markdown",
   "metadata": {},
   "source": []
  },
  {
   "cell_type": "markdown",
   "metadata": {},
   "source": [
    "### Conclusiones"
   ]
  },
  {
   "cell_type": "markdown",
   "metadata": {},
   "source": []
  },
  {
   "cell_type": "markdown",
   "metadata": {},
   "source": []
  }
 ],
 "metadata": {
  "kernelspec": {
   "display_name": "Python 3",
   "language": "python",
   "name": "python3"
  },
  "language_info": {
   "codemirror_mode": {
    "name": "ipython",
    "version": 3
   },
   "file_extension": ".py",
   "mimetype": "text/x-python",
   "name": "python",
   "nbconvert_exporter": "python",
   "pygments_lexer": "ipython3",
   "version": "3.13.2"
  }
 },
 "nbformat": 4,
 "nbformat_minor": 2
}
